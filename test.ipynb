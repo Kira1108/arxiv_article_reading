{
 "cells": [
  {
   "cell_type": "code",
   "execution_count": 2,
   "metadata": {},
   "outputs": [],
   "source": [
    "import os\n",
    "from pathlib import Path\n",
    "import sqlite3\n",
    "import pandas as pd\n",
    "\n",
    "database_path = Path(\"./databases\")\n",
    "\n",
    "databases = os.listdir(database_path)"
   ]
  },
  {
   "cell_type": "code",
   "execution_count": 3,
   "metadata": {},
   "outputs": [],
   "source": [
    "db_uri = database_path / databases[0]\n",
    "conn = sqlite3.connect(db_uri)\n",
    "articles = pd.read_sql_query(\"SELECT * FROM article_meta\", conn)"
   ]
  },
  {
   "cell_type": "code",
   "execution_count": 15,
   "metadata": {},
   "outputs": [],
   "source": [
    "pdf_path = articles.iloc[3].pdf_path"
   ]
  },
  {
   "cell_type": "code",
   "execution_count": 25,
   "metadata": {},
   "outputs": [],
   "source": [
    "from PyPDF2 import PdfReader\n",
    "from dataclasses import dataclass\n",
    "\n",
    "@dataclass\n",
    "class ArticlePdfReader:\n",
    "    \n",
    "    pdf_path:str\n",
    "    \n",
    "    def __post_init__(self):\n",
    "        self.reader = PdfReader(self.pdf_path)\n",
    "        self.num_pages = len(self.reader.pages)\n",
    "    \n",
    "    def gen(self):\n",
    "        pages = self.reader.pages\n",
    "        for i,page in enumerate(pages):\n",
    "            text = page.extract_text()\n",
    "            yield i+1, text\n",
    "            \n",
    "    @property    \n",
    "    def text(self):\n",
    "        return \"\\n\".join([text for _, text in self.gen()])"
   ]
  },
  {
   "cell_type": "code",
   "execution_count": 52,
   "metadata": {},
   "outputs": [
    {
     "name": "stdout",
     "output_type": "stream",
     "text": [
      "论文题目:  Opening the black box of deep learning\n"
     ]
    },
    {
     "data": {
      "text/html": [
       "<div style=\"font-size: 15px; line-height:1.5em; white-space: pre-wrap; width:1000px; text-align:justify; font-family:HelveticaNeue-Light\">\n",
       "\n",
       "1. The paper proposes that deep learning is a physical system and examines it from a physics perspective to provide theoretical explanations for its success and limitations.\n",
       "\n",
       "2. Previous studies lacked theoretical research on the internal principles of deep learning, resulting in the \"black box problem\" of not understanding why deep learning is successful and what the key factors are. The unsolved problems include the lack of a clear theoretical basis and the potential for false modes and non-generic representations of data.</div>"
      ],
      "text/plain": [
       "<IPython.core.display.HTML object>"
      ]
     },
     "metadata": {},
     "output_type": "display_data"
    },
    {
     "name": "stdout",
     "output_type": "stream",
     "text": [
      "------------------------------------------------------------------------------------------------------------------------\n",
      "论文题目:  Concept-Oriented Deep Learning\n"
     ]
    },
    {
     "data": {
      "text/html": [
       "<div style=\"font-size: 15px; line-height:1.5em; white-space: pre-wrap; width:1000px; text-align:justify; font-family:HelveticaNeue-Light\">\n",
       "\n",
       "1. The article proposes concept-oriented deep learning (CODL) which extends deep learning with concept representations and addresses limitations such as interpretability, transferability, contextual adaptation, and the requirement for labeled training data.\n",
       "\n",
       "2. Previous studies have focused on surface learning and rote memorization of facts, while unsolved problems include the lack of understanding and long-term retention of knowledge. CODL aims to promote conceptual understanding and knowledge transfer.</div>"
      ],
      "text/plain": [
       "<IPython.core.display.HTML object>"
      ]
     },
     "metadata": {},
     "output_type": "display_data"
    },
    {
     "name": "stdout",
     "output_type": "stream",
     "text": [
      "------------------------------------------------------------------------------------------------------------------------\n",
      "论文题目:  Deep learning research landscape & roadmap in a nutshell: past, present and future -- Towards deep cortical learning\n"
     ]
    },
    {
     "data": {
      "text/html": [
       "<div style=\"font-size: 15px; line-height:1.5em; white-space: pre-wrap; width:1000px; text-align:justify; font-family:HelveticaNeue-Light\">\n",
       "\n",
       "1. This work presents the past, present, and future of deep learning, predicting that deep cortical learning will be the convergence of deep learning and cortical learning.\n",
       "\n",
       "2. The article does not mention any problems with previous studies, but the unsolved problem is the development of an artificial cortical column through the convergence of deep learning and cortical learning.</div>"
      ],
      "text/plain": [
       "<IPython.core.display.HTML object>"
      ]
     },
     "metadata": {},
     "output_type": "display_data"
    },
    {
     "name": "stdout",
     "output_type": "stream",
     "text": [
      "------------------------------------------------------------------------------------------------------------------------\n"
     ]
    }
   ],
   "source": [
    "from simple_chat import Chat\n",
    "\n",
    "SUMMARY_PROMPT =  \"\"\"\n",
    "You are a researcher in the field of deeplearning and you are interested in deep learning theory and applications.\n",
    "You always answer in {language} language.\n",
    "In this page, you see the following text:\n",
    "{page_text}\n",
    "\n",
    "Your have 2 tasks\n",
    "1. Summarize the page in one sentence. Keep it short and simple in {language}.\n",
    "\n",
    "2. Answer: what's problems with previous studies, where are the unsolved problems, tell me in 2 sentence. Keep is short and simple in {language}.\n",
    "\"\"\"\n",
    "for i in range(3):\n",
    "    \n",
    "    pdf_path = articles.iloc[i].pdf_path\n",
    "\n",
    "    article_reader = ArticlePdfReader(pdf_path)\n",
    "\n",
    "    page = next(article_reader.gen())[1]\n",
    "\n",
    "    chat = Chat()\n",
    "    chat.set_param(\"temperature\",0)\n",
    "    chat.go()\n",
    "    \n",
    "    print(\"论文题目: \", articles.iloc[i].title)\n",
    "\n",
    "    chat(SUMMARY_PROMPT.format(page_text=page, language=\"english\"))\n",
    "    print(\"-\"*120)"
   ]
  },
  {
   "cell_type": "code",
   "execution_count": null,
   "metadata": {},
   "outputs": [],
   "source": []
  }
 ],
 "metadata": {
  "kernelspec": {
   "display_name": "Python 3",
   "language": "python",
   "name": "python3"
  },
  "language_info": {
   "codemirror_mode": {
    "name": "ipython",
    "version": 3
   },
   "file_extension": ".py",
   "mimetype": "text/x-python",
   "name": "python",
   "nbconvert_exporter": "python",
   "pygments_lexer": "ipython3",
   "version": "3.8.8"
  },
  "orig_nbformat": 4
 },
 "nbformat": 4,
 "nbformat_minor": 2
}
